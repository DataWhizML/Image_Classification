{
 "cells": [
  {
   "cell_type": "markdown",
   "id": "0a1ec89c-d5f5-4c5d-a488-c232c542716d",
   "metadata": {},
   "source": [
    "# Image classification"
   ]
  },
  {
   "cell_type": "code",
   "execution_count": 1,
   "id": "8ca073cd-6d6b-4d95-8a7f-f2e6435ec192",
   "metadata": {},
   "outputs": [
    {
     "name": "stdout",
     "output_type": "stream",
     "text": [
      "WARNING:tensorflow:From C:\\Users\\BITS\\AppData\\Local\\Packages\\PythonSoftwareFoundation.Python.3.11_qbz5n2kfra8p0\\LocalCache\\local-packages\\Python311\\site-packages\\keras\\src\\losses.py:2976: The name tf.losses.sparse_softmax_cross_entropy is deprecated. Please use tf.compat.v1.losses.sparse_softmax_cross_entropy instead.\n",
      "\n"
     ]
    }
   ],
   "source": [
    "import tensorflow as tf\n",
    "from tensorflow.keras import datasets, layers, models\n",
    "import matplotlib.pyplot as plt\n",
    "import numpy as np\n",
    "import random\n",
    "import keras\n",
    "import warnings \n",
    "warnings.filterwarnings('ignore')"
   ]
  },
  {
   "cell_type": "markdown",
   "id": "793ebff1-3cf1-4e86-9c22-8bcf85ccc3b6",
   "metadata": {},
   "source": [
    "### Reading Data"
   ]
  },
  {
   "cell_type": "code",
   "execution_count": 2,
   "id": "c4949a59-6d5e-45f8-add9-b7116a0b156f",
   "metadata": {},
   "outputs": [],
   "source": [
    "(X_train, y_train),(X_test, y_test) = datasets.cifar10.load_data()"
   ]
  },
  {
   "cell_type": "code",
   "execution_count": 3,
   "id": "db95ecc9-3d2a-4eb7-82ef-30cb6f7e5335",
   "metadata": {},
   "outputs": [
    {
     "name": "stdout",
     "output_type": "stream",
     "text": [
      "(50000, 32, 32, 3)\n",
      "(10000, 32, 32, 3)\n",
      "(50000, 1)\n",
      "(10000, 1)\n"
     ]
    }
   ],
   "source": [
    "print(X_train.shape)\n",
    "print(X_test.shape)\n",
    "print(y_train.shape)\n",
    "print(y_test.shape)\n",
    "# 10,000 images\n",
    "# 50,000 samples---50,000 arrays each of 3 dimensions\n",
    "# each sample is a 32 x 32 pixels image\n",
    "# 3 --RGB channels"
   ]
  },
  {
   "cell_type": "code",
   "execution_count": 4,
   "id": "e04d52b7-fea2-4a31-af0f-8f8d98218670",
   "metadata": {},
   "outputs": [
    {
     "data": {
      "text/plain": [
       "array([6, 9, 9, ..., 9, 1, 1], dtype=uint8)"
      ]
     },
     "execution_count": 4,
     "metadata": {},
     "output_type": "execute_result"
    }
   ],
   "source": [
    "y_train = y_train.reshape(-1,)\n",
    "y_train"
   ]
  },
  {
   "cell_type": "code",
   "execution_count": 5,
   "id": "a52e1be5-e6d2-42d2-b9ca-4410b12a5d97",
   "metadata": {},
   "outputs": [
    {
     "data": {
      "text/plain": [
       "array([[[[ 59,  62,  63],\n",
       "         [ 43,  46,  45],\n",
       "         [ 50,  48,  43],\n",
       "         ...,\n",
       "         [158, 132, 108],\n",
       "         [152, 125, 102],\n",
       "         [148, 124, 103]],\n",
       "\n",
       "        [[ 16,  20,  20],\n",
       "         [  0,   0,   0],\n",
       "         [ 18,   8,   0],\n",
       "         ...,\n",
       "         [123,  88,  55],\n",
       "         [119,  83,  50],\n",
       "         [122,  87,  57]],\n",
       "\n",
       "        [[ 25,  24,  21],\n",
       "         [ 16,   7,   0],\n",
       "         [ 49,  27,   8],\n",
       "         ...,\n",
       "         [118,  84,  50],\n",
       "         [120,  84,  50],\n",
       "         [109,  73,  42]],\n",
       "\n",
       "        ...,\n",
       "\n",
       "        [[208, 170,  96],\n",
       "         [201, 153,  34],\n",
       "         [198, 161,  26],\n",
       "         ...,\n",
       "         [160, 133,  70],\n",
       "         [ 56,  31,   7],\n",
       "         [ 53,  34,  20]],\n",
       "\n",
       "        [[180, 139,  96],\n",
       "         [173, 123,  42],\n",
       "         [186, 144,  30],\n",
       "         ...,\n",
       "         [184, 148,  94],\n",
       "         [ 97,  62,  34],\n",
       "         [ 83,  53,  34]],\n",
       "\n",
       "        [[177, 144, 116],\n",
       "         [168, 129,  94],\n",
       "         [179, 142,  87],\n",
       "         ...,\n",
       "         [216, 184, 140],\n",
       "         [151, 118,  84],\n",
       "         [123,  92,  72]]],\n",
       "\n",
       "\n",
       "       [[[154, 177, 187],\n",
       "         [126, 137, 136],\n",
       "         [105, 104,  95],\n",
       "         ...,\n",
       "         [ 91,  95,  71],\n",
       "         [ 87,  90,  71],\n",
       "         [ 79,  81,  70]],\n",
       "\n",
       "        [[140, 160, 169],\n",
       "         [145, 153, 154],\n",
       "         [125, 125, 118],\n",
       "         ...,\n",
       "         [ 96,  99,  78],\n",
       "         [ 77,  80,  62],\n",
       "         [ 71,  73,  61]],\n",
       "\n",
       "        [[140, 155, 164],\n",
       "         [139, 146, 149],\n",
       "         [115, 115, 112],\n",
       "         ...,\n",
       "         [ 79,  82,  64],\n",
       "         [ 68,  70,  55],\n",
       "         [ 67,  69,  55]],\n",
       "\n",
       "        ...,\n",
       "\n",
       "        [[175, 167, 166],\n",
       "         [156, 154, 160],\n",
       "         [154, 160, 170],\n",
       "         ...,\n",
       "         [ 42,  34,  36],\n",
       "         [ 61,  53,  57],\n",
       "         [ 93,  83,  91]],\n",
       "\n",
       "        [[165, 154, 128],\n",
       "         [156, 152, 130],\n",
       "         [159, 161, 142],\n",
       "         ...,\n",
       "         [103,  93,  96],\n",
       "         [123, 114, 120],\n",
       "         [131, 121, 131]],\n",
       "\n",
       "        [[163, 148, 120],\n",
       "         [158, 148, 122],\n",
       "         [163, 156, 133],\n",
       "         ...,\n",
       "         [143, 133, 139],\n",
       "         [143, 134, 142],\n",
       "         [143, 133, 144]]],\n",
       "\n",
       "\n",
       "       [[[255, 255, 255],\n",
       "         [253, 253, 253],\n",
       "         [253, 253, 253],\n",
       "         ...,\n",
       "         [253, 253, 253],\n",
       "         [253, 253, 253],\n",
       "         [253, 253, 253]],\n",
       "\n",
       "        [[255, 255, 255],\n",
       "         [255, 255, 255],\n",
       "         [255, 255, 255],\n",
       "         ...,\n",
       "         [255, 255, 255],\n",
       "         [255, 255, 255],\n",
       "         [255, 255, 255]],\n",
       "\n",
       "        [[255, 255, 255],\n",
       "         [254, 254, 254],\n",
       "         [254, 254, 254],\n",
       "         ...,\n",
       "         [254, 254, 254],\n",
       "         [254, 254, 254],\n",
       "         [254, 254, 254]],\n",
       "\n",
       "        ...,\n",
       "\n",
       "        [[113, 120, 112],\n",
       "         [111, 118, 111],\n",
       "         [105, 112, 106],\n",
       "         ...,\n",
       "         [ 72,  81,  80],\n",
       "         [ 72,  80,  79],\n",
       "         [ 72,  80,  79]],\n",
       "\n",
       "        [[111, 118, 110],\n",
       "         [104, 111, 104],\n",
       "         [ 99, 106,  98],\n",
       "         ...,\n",
       "         [ 68,  75,  73],\n",
       "         [ 70,  76,  75],\n",
       "         [ 78,  84,  82]],\n",
       "\n",
       "        [[106, 113, 105],\n",
       "         [ 99, 106,  98],\n",
       "         [ 95, 102,  94],\n",
       "         ...,\n",
       "         [ 78,  85,  83],\n",
       "         [ 79,  85,  83],\n",
       "         [ 80,  86,  84]]],\n",
       "\n",
       "\n",
       "       ...,\n",
       "\n",
       "\n",
       "       [[[ 35, 178, 235],\n",
       "         [ 40, 176, 239],\n",
       "         [ 42, 176, 241],\n",
       "         ...,\n",
       "         [ 99, 177, 219],\n",
       "         [ 79, 147, 197],\n",
       "         [ 89, 148, 189]],\n",
       "\n",
       "        [[ 57, 182, 234],\n",
       "         [ 44, 184, 250],\n",
       "         [ 50, 183, 240],\n",
       "         ...,\n",
       "         [156, 182, 200],\n",
       "         [141, 177, 206],\n",
       "         [116, 149, 175]],\n",
       "\n",
       "        [[ 98, 197, 237],\n",
       "         [ 64, 189, 252],\n",
       "         [ 69, 192, 245],\n",
       "         ...,\n",
       "         [188, 195, 206],\n",
       "         [119, 135, 147],\n",
       "         [ 61,  79,  90]],\n",
       "\n",
       "        ...,\n",
       "\n",
       "        [[ 73,  79,  77],\n",
       "         [ 53,  63,  68],\n",
       "         [ 54,  68,  80],\n",
       "         ...,\n",
       "         [ 17,  40,  64],\n",
       "         [ 21,  36,  51],\n",
       "         [ 33,  48,  49]],\n",
       "\n",
       "        [[ 61,  68,  75],\n",
       "         [ 55,  70,  86],\n",
       "         [ 57,  79, 103],\n",
       "         ...,\n",
       "         [ 24,  48,  72],\n",
       "         [ 17,  35,  53],\n",
       "         [  7,  23,  32]],\n",
       "\n",
       "        [[ 44,  56,  73],\n",
       "         [ 46,  66,  88],\n",
       "         [ 49,  77, 105],\n",
       "         ...,\n",
       "         [ 27,  52,  77],\n",
       "         [ 21,  43,  66],\n",
       "         [ 12,  31,  50]]],\n",
       "\n",
       "\n",
       "       [[[189, 211, 240],\n",
       "         [186, 208, 236],\n",
       "         [185, 207, 235],\n",
       "         ...,\n",
       "         [175, 195, 224],\n",
       "         [172, 194, 222],\n",
       "         [169, 194, 220]],\n",
       "\n",
       "        [[194, 210, 239],\n",
       "         [191, 207, 236],\n",
       "         [190, 206, 235],\n",
       "         ...,\n",
       "         [173, 192, 220],\n",
       "         [171, 191, 218],\n",
       "         [167, 190, 216]],\n",
       "\n",
       "        [[208, 219, 244],\n",
       "         [205, 216, 240],\n",
       "         [204, 215, 239],\n",
       "         ...,\n",
       "         [175, 191, 217],\n",
       "         [172, 190, 216],\n",
       "         [169, 191, 215]],\n",
       "\n",
       "        ...,\n",
       "\n",
       "        [[207, 199, 181],\n",
       "         [203, 195, 175],\n",
       "         [203, 196, 173],\n",
       "         ...,\n",
       "         [135, 132, 127],\n",
       "         [162, 158, 150],\n",
       "         [168, 163, 151]],\n",
       "\n",
       "        [[198, 190, 170],\n",
       "         [189, 181, 159],\n",
       "         [180, 172, 147],\n",
       "         ...,\n",
       "         [178, 171, 160],\n",
       "         [175, 169, 156],\n",
       "         [175, 169, 154]],\n",
       "\n",
       "        [[198, 189, 173],\n",
       "         [189, 181, 162],\n",
       "         [178, 170, 149],\n",
       "         ...,\n",
       "         [195, 184, 169],\n",
       "         [196, 189, 171],\n",
       "         [195, 190, 171]]],\n",
       "\n",
       "\n",
       "       [[[229, 229, 239],\n",
       "         [236, 237, 247],\n",
       "         [234, 236, 247],\n",
       "         ...,\n",
       "         [217, 219, 233],\n",
       "         [221, 223, 234],\n",
       "         [222, 223, 233]],\n",
       "\n",
       "        [[222, 221, 229],\n",
       "         [239, 239, 249],\n",
       "         [233, 234, 246],\n",
       "         ...,\n",
       "         [223, 223, 236],\n",
       "         [227, 228, 238],\n",
       "         [210, 211, 220]],\n",
       "\n",
       "        [[213, 206, 211],\n",
       "         [234, 232, 239],\n",
       "         [231, 233, 244],\n",
       "         ...,\n",
       "         [220, 220, 232],\n",
       "         [220, 219, 232],\n",
       "         [202, 203, 215]],\n",
       "\n",
       "        ...,\n",
       "\n",
       "        [[150, 143, 135],\n",
       "         [140, 135, 127],\n",
       "         [132, 127, 120],\n",
       "         ...,\n",
       "         [224, 222, 218],\n",
       "         [230, 228, 225],\n",
       "         [241, 241, 238]],\n",
       "\n",
       "        [[137, 132, 126],\n",
       "         [130, 127, 120],\n",
       "         [125, 121, 115],\n",
       "         ...,\n",
       "         [181, 180, 178],\n",
       "         [202, 201, 198],\n",
       "         [212, 211, 207]],\n",
       "\n",
       "        [[122, 119, 114],\n",
       "         [118, 116, 110],\n",
       "         [120, 116, 111],\n",
       "         ...,\n",
       "         [179, 177, 173],\n",
       "         [164, 164, 162],\n",
       "         [163, 163, 161]]]], dtype=uint8)"
      ]
     },
     "execution_count": 5,
     "metadata": {},
     "output_type": "execute_result"
    }
   ],
   "source": [
    "X_train"
   ]
  },
  {
   "cell_type": "markdown",
   "id": "3459cfe9-60a1-4250-adfd-f91071ff463f",
   "metadata": {},
   "source": [
    "### Visualizing Data"
   ]
  },
  {
   "cell_type": "code",
   "execution_count": 6,
   "id": "5d278e46-5b1b-4c80-a884-953752a7af27",
   "metadata": {},
   "outputs": [
    {
     "data": {
      "image/png": "[encoded data removed]",
      "text/plain": [
       "<Figure size 1500x200 with 1 Axes>"
      ]
     },
     "metadata": {},
     "output_type": "display_data"
    }
   ],
   "source": [
    "plt.figure(figsize=(15,2))\n",
    "plt.imshow(X_train[1])\n",
    "plt.show()\n",
    "#This function is used to display images or 2D arrays as a graphical representation."
   ]
  },
  {
   "cell_type": "code",
   "execution_count": 7,
   "id": "4cb9a382-4dd5-43e0-8cc6-5f162329012b",
   "metadata": {},
   "outputs": [
    {
     "data": {
      "image/png": "[encoded data removed]",
      "text/plain": [
       "<Figure size 1500x200 with 1 Axes>"
      ]
     },
     "metadata": {},
     "output_type": "display_data"
    }
   ],
   "source": [
    "plt.figure(figsize=(15,2))\n",
    "plt.imshow(X_train[0])\n",
    "plt.show()"
   ]
  },
  {
   "cell_type": "code",
   "execution_count": 8,
   "id": "2d0fa18a-6a43-45ee-a0f2-c738146c010c",
   "metadata": {},
   "outputs": [],
   "source": [
    "classes = [\"airplane\", \"automobile\", \"bird\", \"cat\", \"deer\", \"dog\", \"frog\", \"horse\", \"ship\", \"truck\"]"
   ]
  },
  {
   "cell_type": "code",
   "execution_count": 9,
   "id": "fd372a39-b959-4cf9-9ce0-a9c89f9fb980",
   "metadata": {},
   "outputs": [
    {
     "data": {
      "text/plain": [
       "3"
      ]
     },
     "execution_count": 9,
     "metadata": {},
     "output_type": "execute_result"
    }
   ],
   "source": [
    "y_train[9]"
   ]
  },
  {
   "cell_type": "code",
   "execution_count": 10,
   "id": "8cfa229a-afc1-4b33-9d16-9058a3d00fca",
   "metadata": {},
   "outputs": [
    {
     "data": {
      "image/png": "[encoded data removed]",
      "text/plain": [
       "<Figure size 1500x200 with 1 Axes>"
      ]
     },
     "metadata": {},
     "output_type": "display_data"
    }
   ],
   "source": [
    "def plot_sample(X,y,index):\n",
    "    plt.figure(figsize=(15,2))\n",
    "    plt.imshow(X_train[index])\n",
    "    plt.xlabel(classes[y[index]])\n",
    "plot_sample(X_train,y_train,3)"
   ]
  },
  {
   "cell_type": "code",
   "execution_count": 11,
   "id": "1e6a0e88-a958-4a16-a31f-77a27db4d2ed",
   "metadata": {},
   "outputs": [],
   "source": [
    "def get_ten_random_images():\n",
    "    \n",
    "    #function returns a dictionary of <label, idx> where idx is the random datapoint of class 'label'\n",
    "    d = {}\n",
    "    while len(d.keys()) < 10:\n",
    "        idx = random.randint(0, len(y_train)-1)\n",
    "        if y_train[idx] not in d.keys():\n",
    "            d[y_train[idx]] = idx\n",
    "    return d"
   ]
  },
  {
   "cell_type": "code",
   "execution_count": 12,
   "id": "5022a055-5627-4057-ad00-28de09a330ed",
   "metadata": {},
   "outputs": [
    {
     "data": {
      "image/png": "[encoded data removed]",
      "text/plain": [
       "<Figure size 1500x600 with 10 Axes>"
      ]
     },
     "metadata": {},
     "output_type": "display_data"
    }
   ],
   "source": [
    "d = get_ten_random_images()\n",
    "rows= 2\n",
    "cols=5\n",
    "fig,axes = plt.subplots(rows, cols, figsize = (15,6))\n",
    "axes = axes.ravel()\n",
    "for i in range(1, rows*cols+1):\n",
    "    axes[i-1].imshow(X_train[d[i-1]])\n",
    "    axes[i-1].axis('off')\n",
    "    axes[i-1].set_title(classes[i-1], fontsize=15)\n",
    "plt.suptitle(\"10 Random Images from Dataset of each class\",fontsize = 20)\n",
    "plt.show()"
   ]
  },
  {
   "cell_type": "markdown",
   "id": "2b85c5f7-dd52-4ea4-8189-b27ac9b9a382",
   "metadata": {},
   "source": [
    "### Data Modelling"
   ]
  },
  {
   "cell_type": "markdown",
   "id": "9fe5926a-ea98-4401-a017-4b96b9607a2e",
   "metadata": {},
   "source": [
    "#### Normalize the data\n",
    "- whenever you have an image, you want to divide each pixel value by 255.\n",
    "- pixel value ranges from 0 to 255 for each of the channel.\n",
    "- it will be normalized to be in between 0 and 1"
   ]
  },
  {
   "cell_type": "code",
   "execution_count": 13,
   "id": "34dff23c-281e-4904-bd86-dfbc63c62d3c",
   "metadata": {},
   "outputs": [],
   "source": [
    "X_train = X_train/255\n",
    "X_test = X_test/255"
   ]
  },
  {
   "cell_type": "markdown",
   "id": "f5c938ac-f71b-4fed-8f48-3edc320357fb",
   "metadata": {},
   "source": [
    "### Model Training"
   ]
  },
  {
   "cell_type": "markdown",
   "id": "9e4904fe-76f5-4918-a52f-cb7b8bd64fe6",
   "metadata": {},
   "source": [
    "### Building a ANN"
   ]
  },
  {
   "cell_type": "code",
   "execution_count": 14,
   "id": "5a53275a-16c0-4bc3-95c3-30a49d945334",
   "metadata": {},
   "outputs": [
    {
     "name": "stdout",
     "output_type": "stream",
     "text": [
      "WARNING:tensorflow:From C:\\Users\\BITS\\AppData\\Local\\Packages\\PythonSoftwareFoundation.Python.3.11_qbz5n2kfra8p0\\LocalCache\\local-packages\\Python311\\site-packages\\keras\\src\\backend.py:873: The name tf.get_default_graph is deprecated. Please use tf.compat.v1.get_default_graph instead.\n",
      "\n",
      "WARNING:tensorflow:From C:\\Users\\BITS\\AppData\\Local\\Packages\\PythonSoftwareFoundation.Python.3.11_qbz5n2kfra8p0\\LocalCache\\local-packages\\Python311\\site-packages\\keras\\src\\optimizers\\__init__.py:309: The name tf.train.Optimizer is deprecated. Please use tf.compat.v1.train.Optimizer instead.\n",
      "\n",
      "Epoch 1/5\n",
      "WARNING:tensorflow:From C:\\Users\\BITS\\AppData\\Local\\Packages\\PythonSoftwareFoundation.Python.3.11_qbz5n2kfra8p0\\LocalCache\\local-packages\\Python311\\site-packages\\keras\\src\\utils\\tf_utils.py:492: The name tf.ragged.RaggedTensorValue is deprecated. Please use tf.compat.v1.ragged.RaggedTensorValue instead.\n",
      "\n",
      "WARNING:tensorflow:From C:\\Users\\BITS\\AppData\\Local\\Packages\\PythonSoftwareFoundation.Python.3.11_qbz5n2kfra8p0\\LocalCache\\local-packages\\Python311\\site-packages\\keras\\src\\engine\\base_layer_utils.py:384: The name tf.executing_eagerly_outside_functions is deprecated. Please use tf.compat.v1.executing_eagerly_outside_functions instead.\n",
      "\n",
      "1563/1563 [==============================] - 88s 53ms/step - loss: 1.8087 - accuracy: 0.3536\n",
      "Epoch 2/5\n",
      "1563/1563 [==============================] - 86s 55ms/step - loss: 1.6215 - accuracy: 0.4261\n",
      "Epoch 3/5\n",
      "1563/1563 [==============================] - 87s 56ms/step - loss: 1.5393 - accuracy: 0.4563\n",
      "Epoch 4/5\n",
      "1563/1563 [==============================] - 81s 52ms/step - loss: 1.4803 - accuracy: 0.4765\n",
      "Epoch 5/5\n",
      "1563/1563 [==============================] - 84s 54ms/step - loss: 1.4305 - accuracy: 0.4966\n"
     ]
    },
    {
     "data": {
      "text/plain": [
       "<keras.src.callbacks.History at 0x24b416ea110>"
      ]
     },
     "execution_count": 14,
     "metadata": {},
     "output_type": "execute_result"
    }
   ],
   "source": [
    "ann = models.Sequential([\n",
    "    layers.Flatten(input_shape=(32,32,3)),\n",
    "    layers.Dense(3000, activation=\"relu\"),\n",
    "    layers.Dense(1000,activation=\"relu\"),\n",
    "    layers.Dense(10,activation=\"sigmoid\")])\n",
    "ann.compile(optimizer='SGD',loss=\"sparse_categorical_crossentropy\", metrics=[\"accuracy\"])\n",
    "ann.fit(X_train,y_train, epochs=5)"
   ]
  },
  {
   "cell_type": "markdown",
   "id": "54422853-ad30-4aa5-835f-3766fe329487",
   "metadata": {},
   "source": [
    "#### Accuracy is around 49% at the end of 5 epochs"
   ]
  },
  {
   "cell_type": "code",
   "execution_count": 15,
   "id": "49c25dff-7e30-4e7f-9189-262556759b79",
   "metadata": {},
   "outputs": [
    {
     "name": "stdout",
     "output_type": "stream",
     "text": [
      "313/313 [==============================] - 5s 14ms/step\n",
      "Classification Report: \n",
      "               precision    recall  f1-score   support\n",
      "\n",
      "           0       0.52      0.56      0.54      1000\n",
      "           1       0.51      0.71      0.60      1000\n",
      "           2       0.35      0.45      0.39      1000\n",
      "           3       0.36      0.18      0.24      1000\n",
      "           4       0.49      0.31      0.38      1000\n",
      "           5       0.33      0.49      0.40      1000\n",
      "           6       0.59      0.42      0.49      1000\n",
      "           7       0.62      0.45      0.53      1000\n",
      "           8       0.53      0.71      0.60      1000\n",
      "           9       0.56      0.48      0.51      1000\n",
      "\n",
      "    accuracy                           0.48     10000\n",
      "   macro avg       0.49      0.48      0.47     10000\n",
      "weighted avg       0.49      0.48      0.47     10000\n",
      "\n"
     ]
    }
   ],
   "source": [
    "import sklearn\n",
    "from sklearn.metrics import confusion_matrix, classification_report\n",
    "y_pred = ann.predict(X_test)\n",
    "y_pred_classes = [np.argmax(element) for element in y_pred]\n",
    "print(\"Classification Report: \\n\", classification_report(y_test,y_pred_classes))"
   ]
  },
  {
   "cell_type": "markdown",
   "id": "a234e80f-bda6-47d4-bf0e-e582aa8356d6",
   "metadata": {},
   "source": [
    "## Building a CNN"
   ]
  },
  {
   "cell_type": "code",
   "execution_count": 46,
   "id": "fb428455-4691-4c88-9db0-eebacdf37c02",
   "metadata": {},
   "outputs": [
    {
     "data": {
      "text/plain": [
       "(numpy.float64, numpy.float64)"
      ]
     },
     "execution_count": 46,
     "metadata": {},
     "output_type": "execute_result"
    }
   ],
   "source": [
    "type(X_train[1][2][3][2]), type(X_test[1][2][3][2])"
   ]
  },
  {
   "cell_type": "code",
   "execution_count": 47,
   "id": "a3a33468-2d89-4e3a-97c3-7d9b1a8a83a8",
   "metadata": {},
   "outputs": [],
   "source": [
    "X_train = X_train.astype('float32')\n",
    "X_test = X_test.astype('float32')"
   ]
  },
  {
   "cell_type": "code",
   "execution_count": 48,
   "id": "f6c6f5e8-7cc0-42fe-8ca6-4adc4b0b2532",
   "metadata": {},
   "outputs": [],
   "source": [
    "## Mean shifting and variance centering\n",
    "mean = np.mean(X_train, axis=(0,1,2,3))\n",
    "std = np.std(X_train, axis = (0,1,2,3))"
   ]
  },
  {
   "cell_type": "code",
   "execution_count": 49,
   "id": "be4a2f96-ae74-4628-9073-75275d86a400",
   "metadata": {},
   "outputs": [],
   "source": [
    "X_train = (X_train-mean)/(std + 1e-7)\n",
    "X_test = (X_test-mean)/(std + 1e-7)"
   ]
  },
  {
   "cell_type": "code",
   "execution_count": 50,
   "id": "cc92fe1d-cbea-4a8b-ba5d-dc29311a96c8",
   "metadata": {},
   "outputs": [],
   "source": [
    "## Converting target variable into categorical matrix\n",
    "y_train_cat = keras.utils.to_categorical(y_train,10)\n",
    "y_test_cat = keras.utils.to_categorical(y_test,10)"
   ]
  },
  {
   "cell_type": "code",
   "execution_count": 52,
   "id": "a31c67e4-78a4-4b73-96d1-35bd001909cb",
   "metadata": {},
   "outputs": [
    {
     "data": {
      "text/plain": [
       "(32, 32, 3)"
      ]
     },
     "execution_count": 52,
     "metadata": {},
     "output_type": "execute_result"
    }
   ],
   "source": [
    "input_shape = X_train.shape[1:]\n",
    "input_shape"
   ]
  },
  {
   "cell_type": "markdown",
   "id": "467a6d44-6971-4dd6-b243-f6c2f564f299",
   "metadata": {},
   "source": [
    "#### Model Building"
   ]
  },
  {
   "cell_type": "code",
   "execution_count": 54,
   "id": "2eaa9dd1-aba6-4290-8384-3f599aa8f93b",
   "metadata": {},
   "outputs": [],
   "source": [
    "from keras.models import Sequential\n",
    "from keras.layers import Dense, Conv2D, MaxPooling2D, AveragePooling2D, Flatten, Dropout, BatchNormalization, Activation\n",
    "from keras.optimizers import Adam\n",
    "from keras.callbacks import TensorBoard\n",
    "from keras import regularizers"
   ]
  },
  {
   "cell_type": "code",
   "execution_count": 56,
   "id": "3c909e93-5111-4abd-aae4-22dce0fd6e63",
   "metadata": {},
   "outputs": [],
   "source": [
    "weight_decay = 1e-4"
   ]
  },
  {
   "cell_type": "code",
   "execution_count": 57,
   "id": "0afee628-1e75-402a-90e0-93578dc48d6a",
   "metadata": {},
   "outputs": [],
   "source": [
    "model = Sequential()\n",
    "model.add(Conv2D(filters = 32, kernel_size = (3,3), padding='same', input_shape = input_shape, kernel_regularizer=regularizers.l2(weight_decay)))\n",
    "model.add(Activation('elu'))\n",
    "model.add(BatchNormalization())\n",
    "model.add(Conv2D(filters = 32, kernel_size = (3,3), padding='same', kernel_regularizer=regularizers.l2(weight_decay)))\n",
    "model.add(Activation('elu'))\n",
    "model.add(BatchNormalization())\n",
    "model.add(MaxPooling2D(2,2))\n",
    "model.add(Dropout(0.2))\n",
    "\n",
    "model.add(Conv2D(filters = 64, kernel_size = (3,3), padding='same', kernel_regularizer=regularizers.l2(weight_decay)))\n",
    "model.add(Activation('elu'))\n",
    "model.add(BatchNormalization())\n",
    "model.add(Conv2D(filters = 64, kernel_size = (3,3), padding='same', kernel_regularizer=regularizers.l2(weight_decay)))\n",
    "model.add(Activation('elu'))\n",
    "model.add(BatchNormalization())\n",
    "model.add(MaxPooling2D(2,2))\n",
    "model.add(Dropout(0.3))\n",
    "\n",
    "model.add(Conv2D(filters = 128, kernel_size = (3,3), padding='same', kernel_regularizer=regularizers.l2(weight_decay)))\n",
    "model.add(Activation('elu'))\n",
    "model.add(BatchNormalization())\n",
    "model.add(Conv2D(filters = 128, kernel_size = (3,3), padding='same', kernel_regularizer=regularizers.l2(weight_decay)))\n",
    "model.add(Activation('elu'))\n",
    "model.add(BatchNormalization())\n",
    "model.add(MaxPooling2D(2,2))\n",
    "model.add(Dropout(0.4))\n",
    "\n",
    "\n",
    "\n",
    "model.add(Flatten())\n",
    "\n",
    "model.add(Dense(units = 10, activation = 'softmax'))"
   ]
  },
  {
   "cell_type": "code",
   "execution_count": 58,
   "id": "0a879cc7-6601-4dd3-8bd7-0099b6e21288",
   "metadata": {},
   "outputs": [
    {
     "name": "stdout",
     "output_type": "stream",
     "text": [
      "Model: \"sequential_3\"\n",
      "_________________________________________________________________\n",
      " Layer (type)                Output Shape              Param #   \n",
      "=================================================================\n",
      " conv2d_2 (Conv2D)           (None, 32, 32, 32)        896       \n",
      "                                                                 \n",
      " activation (Activation)     (None, 32, 32, 32)        0         \n",
      "                                                                 \n",
      " batch_normalization (Batch  (None, 32, 32, 32)        128       \n",
      " Normalization)                                                  \n",
      "                                                                 \n",
      " conv2d_3 (Conv2D)           (None, 32, 32, 32)        9248      \n",
      "                                                                 \n",
      " activation_1 (Activation)   (None, 32, 32, 32)        0         \n",
      "                                                                 \n",
      " batch_normalization_1 (Bat  (None, 32, 32, 32)        128       \n",
      " chNormalization)                                                \n",
      "                                                                 \n",
      " max_pooling2d_2 (MaxPoolin  (None, 16, 16, 32)        0         \n",
      " g2D)                                                            \n",
      "                                                                 \n",
      " dropout (Dropout)           (None, 16, 16, 32)        0         \n",
      "                                                                 \n",
      " conv2d_4 (Conv2D)           (None, 16, 16, 64)        18496     \n",
      "                                                                 \n",
      " activation_2 (Activation)   (None, 16, 16, 64)        0         \n",
      "                                                                 \n",
      " batch_normalization_2 (Bat  (None, 16, 16, 64)        256       \n",
      " chNormalization)                                                \n",
      "                                                                 \n",
      " conv2d_5 (Conv2D)           (None, 16, 16, 64)        36928     \n",
      "                                                                 \n",
      " activation_3 (Activation)   (None, 16, 16, 64)        0         \n",
      "                                                                 \n",
      " batch_normalization_3 (Bat  (None, 16, 16, 64)        256       \n",
      " chNormalization)                                                \n",
      "                                                                 \n",
      " max_pooling2d_3 (MaxPoolin  (None, 8, 8, 64)          0         \n",
      " g2D)                                                            \n",
      "                                                                 \n",
      " dropout_1 (Dropout)         (None, 8, 8, 64)          0         \n",
      "                                                                 \n",
      " conv2d_6 (Conv2D)           (None, 8, 8, 128)         73856     \n",
      "                                                                 \n",
      " activation_4 (Activation)   (None, 8, 8, 128)         0         \n",
      "                                                                 \n",
      " batch_normalization_4 (Bat  (None, 8, 8, 128)         512       \n",
      " chNormalization)                                                \n",
      "                                                                 \n",
      " conv2d_7 (Conv2D)           (None, 8, 8, 128)         147584    \n",
      "                                                                 \n",
      " activation_5 (Activation)   (None, 8, 8, 128)         0         \n",
      "                                                                 \n",
      " batch_normalization_5 (Bat  (None, 8, 8, 128)         512       \n",
      " chNormalization)                                                \n",
      "                                                                 \n",
      " max_pooling2d_4 (MaxPoolin  (None, 4, 4, 128)         0         \n",
      " g2D)                                                            \n",
      "                                                                 \n",
      " dropout_2 (Dropout)         (None, 4, 4, 128)         0         \n",
      "                                                                 \n",
      " flatten_2 (Flatten)         (None, 2048)              0         \n",
      "                                                                 \n",
      " dense_5 (Dense)             (None, 10)                20490     \n",
      "                                                                 \n",
      "=================================================================\n",
      "Total params: 309290 (1.18 MB)\n",
      "Trainable params: 308394 (1.18 MB)\n",
      "Non-trainable params: 896 (3.50 KB)\n",
      "_________________________________________________________________\n"
     ]
    }
   ],
   "source": [
    "model.summary()"
   ]
  },
  {
   "cell_type": "code",
   "execution_count": 62,
   "id": "93aeedb1-cd1f-4133-a59d-fd910452a867",
   "metadata": {},
   "outputs": [],
   "source": [
    "from tensorflow.keras.optimizers import RMSprop\n",
    "from tensorflow.keras.optimizers.schedules import ExponentialDecay\n",
    "\n",
    "initial_learning_rate = 0.001\n",
    "lr_schedule = ExponentialDecay(\n",
    "    initial_learning_rate, decay_steps=100000, decay_rate=0.96, staircase=True\n",
    ")\n",
    "\n",
    "model.compile(\n",
    "    loss='categorical_crossentropy',\n",
    "    optimizer=RMSprop(learning_rate=lr_schedule),\n",
    "    metrics=['accuracy']\n",
    ")"
   ]
  },
  {
   "cell_type": "code",
   "execution_count": 63,
   "id": "bf83b98d-c590-49cf-8f80-e0adb7b75d69",
   "metadata": {},
   "outputs": [
    {
     "name": "stdout",
     "output_type": "stream",
     "text": [
      "Epoch 1/50\n",
      "625/625 [==============================] - 129s 197ms/step - loss: 1.8508 - accuracy: 0.4525 - val_loss: 1.2378 - val_accuracy: 0.5953\n",
      "Epoch 2/50\n",
      "625/625 [==============================] - 123s 196ms/step - loss: 1.1590 - accuracy: 0.6338 - val_loss: 1.0774 - val_accuracy: 0.6609\n",
      "Epoch 3/50\n",
      "625/625 [==============================] - 122s 194ms/step - loss: 0.9676 - accuracy: 0.6928 - val_loss: 0.8466 - val_accuracy: 0.7336\n",
      "Epoch 4/50\n",
      "625/625 [==============================] - 125s 201ms/step - loss: 0.8597 - accuracy: 0.7301 - val_loss: 0.8208 - val_accuracy: 0.7460\n",
      "Epoch 5/50\n",
      "625/625 [==============================] - 126s 201ms/step - loss: 0.7850 - accuracy: 0.7577 - val_loss: 0.7507 - val_accuracy: 0.7699\n",
      "Epoch 6/50\n",
      "625/625 [==============================] - 123s 197ms/step - loss: 0.7332 - accuracy: 0.7784 - val_loss: 0.7598 - val_accuracy: 0.7777\n",
      "Epoch 7/50\n",
      "625/625 [==============================] - 127s 203ms/step - loss: 0.6833 - accuracy: 0.7957 - val_loss: 0.7144 - val_accuracy: 0.7966\n",
      "Epoch 8/50\n",
      "625/625 [==============================] - 122s 195ms/step - loss: 0.6504 - accuracy: 0.8107 - val_loss: 0.6758 - val_accuracy: 0.8078\n",
      "Epoch 9/50\n",
      "625/625 [==============================] - 124s 199ms/step - loss: 0.6198 - accuracy: 0.8241 - val_loss: 0.6696 - val_accuracy: 0.8125\n",
      "Epoch 10/50\n",
      "625/625 [==============================] - 123s 197ms/step - loss: 0.5899 - accuracy: 0.8351 - val_loss: 0.6916 - val_accuracy: 0.8081\n",
      "Epoch 11/50\n",
      "625/625 [==============================] - 123s 197ms/step - loss: 0.5656 - accuracy: 0.8459 - val_loss: 0.6934 - val_accuracy: 0.8130\n",
      "Epoch 12/50\n",
      "625/625 [==============================] - 122s 196ms/step - loss: 0.5523 - accuracy: 0.8521 - val_loss: 0.6499 - val_accuracy: 0.8261\n",
      "Epoch 13/50\n",
      "625/625 [==============================] - 123s 197ms/step - loss: 0.5425 - accuracy: 0.8559 - val_loss: 0.6383 - val_accuracy: 0.8341\n",
      "Epoch 14/50\n",
      "625/625 [==============================] - 126s 201ms/step - loss: 0.5169 - accuracy: 0.8665 - val_loss: 0.6726 - val_accuracy: 0.8247\n",
      "Epoch 15/50\n",
      "625/625 [==============================] - 123s 197ms/step - loss: 0.5101 - accuracy: 0.8696 - val_loss: 0.6616 - val_accuracy: 0.8285\n",
      "Epoch 16/50\n",
      "625/625 [==============================] - 123s 197ms/step - loss: 0.4993 - accuracy: 0.8755 - val_loss: 0.6466 - val_accuracy: 0.8379\n",
      "Epoch 17/50\n",
      "625/625 [==============================] - 124s 199ms/step - loss: 0.4904 - accuracy: 0.8790 - val_loss: 0.6853 - val_accuracy: 0.8270\n",
      "Epoch 18/50\n",
      "625/625 [==============================] - 125s 200ms/step - loss: 0.4820 - accuracy: 0.8815 - val_loss: 0.6449 - val_accuracy: 0.8437\n",
      "Epoch 19/50\n",
      "625/625 [==============================] - 124s 198ms/step - loss: 0.4707 - accuracy: 0.8881 - val_loss: 0.6817 - val_accuracy: 0.8387\n",
      "Epoch 20/50\n",
      "625/625 [==============================] - 124s 198ms/step - loss: 0.4715 - accuracy: 0.8880 - val_loss: 0.6629 - val_accuracy: 0.8358\n",
      "Epoch 21/50\n",
      "625/625 [==============================] - 125s 200ms/step - loss: 0.4645 - accuracy: 0.8912 - val_loss: 0.6668 - val_accuracy: 0.8429\n",
      "Epoch 22/50\n",
      "625/625 [==============================] - 125s 200ms/step - loss: 0.4574 - accuracy: 0.8964 - val_loss: 0.6679 - val_accuracy: 0.8454\n",
      "Epoch 23/50\n",
      "625/625 [==============================] - 126s 202ms/step - loss: 0.4569 - accuracy: 0.8967 - val_loss: 0.6753 - val_accuracy: 0.8424\n",
      "Epoch 24/50\n",
      "625/625 [==============================] - 125s 200ms/step - loss: 0.4528 - accuracy: 0.8998 - val_loss: 0.6759 - val_accuracy: 0.8382\n",
      "Epoch 25/50\n",
      "625/625 [==============================] - 124s 198ms/step - loss: 0.4459 - accuracy: 0.9024 - val_loss: 0.6729 - val_accuracy: 0.8394\n",
      "Epoch 26/50\n",
      "625/625 [==============================] - 125s 200ms/step - loss: 0.4443 - accuracy: 0.9043 - val_loss: 0.6866 - val_accuracy: 0.8420\n",
      "Epoch 27/50\n",
      "625/625 [==============================] - 124s 199ms/step - loss: 0.4454 - accuracy: 0.9033 - val_loss: 0.7003 - val_accuracy: 0.8420\n",
      "Epoch 28/50\n",
      "625/625 [==============================] - 127s 203ms/step - loss: 0.4330 - accuracy: 0.9091 - val_loss: 0.6783 - val_accuracy: 0.8463\n",
      "Epoch 29/50\n",
      "625/625 [==============================] - 125s 199ms/step - loss: 0.4354 - accuracy: 0.9090 - val_loss: 0.6677 - val_accuracy: 0.8518\n",
      "Epoch 30/50\n",
      "625/625 [==============================] - 124s 198ms/step - loss: 0.4346 - accuracy: 0.9090 - val_loss: 0.6985 - val_accuracy: 0.8403\n",
      "Epoch 31/50\n",
      "625/625 [==============================] - 127s 204ms/step - loss: 0.4319 - accuracy: 0.9109 - val_loss: 0.6979 - val_accuracy: 0.8439\n",
      "Epoch 32/50\n",
      "625/625 [==============================] - 125s 201ms/step - loss: 0.4263 - accuracy: 0.9142 - val_loss: 0.6891 - val_accuracy: 0.8450\n",
      "Epoch 33/50\n",
      "625/625 [==============================] - 162s 258ms/step - loss: 0.4296 - accuracy: 0.9130 - val_loss: 0.7187 - val_accuracy: 0.8435\n",
      "Epoch 34/50\n",
      "625/625 [==============================] - 126s 202ms/step - loss: 0.4198 - accuracy: 0.9174 - val_loss: 0.7013 - val_accuracy: 0.8417\n",
      "Epoch 35/50\n",
      "625/625 [==============================] - 125s 199ms/step - loss: 0.4216 - accuracy: 0.9171 - val_loss: 0.7072 - val_accuracy: 0.8465\n",
      "Epoch 36/50\n",
      "625/625 [==============================] - 128s 205ms/step - loss: 0.4228 - accuracy: 0.9172 - val_loss: 0.7469 - val_accuracy: 0.8369\n",
      "Epoch 37/50\n",
      "625/625 [==============================] - 120s 192ms/step - loss: 0.4201 - accuracy: 0.9188 - val_loss: 0.7121 - val_accuracy: 0.8474\n",
      "Epoch 38/50\n",
      "625/625 [==============================] - 126s 202ms/step - loss: 0.4175 - accuracy: 0.9196 - val_loss: 0.7022 - val_accuracy: 0.8516\n",
      "Epoch 39/50\n",
      "625/625 [==============================] - 135s 217ms/step - loss: 0.4183 - accuracy: 0.9194 - val_loss: 0.7149 - val_accuracy: 0.8466\n",
      "Epoch 40/50\n",
      "625/625 [==============================] - 128s 205ms/step - loss: 0.4195 - accuracy: 0.9188 - val_loss: 0.7013 - val_accuracy: 0.8493\n",
      "Epoch 41/50\n",
      "625/625 [==============================] - 131s 209ms/step - loss: 0.4161 - accuracy: 0.9212 - val_loss: 0.6788 - val_accuracy: 0.8550\n",
      "Epoch 42/50\n",
      "625/625 [==============================] - 125s 200ms/step - loss: 0.4098 - accuracy: 0.9244 - val_loss: 0.6975 - val_accuracy: 0.8496\n",
      "Epoch 43/50\n",
      "625/625 [==============================] - 127s 203ms/step - loss: 0.4114 - accuracy: 0.9233 - val_loss: 0.7601 - val_accuracy: 0.8357\n",
      "Epoch 44/50\n",
      "625/625 [==============================] - 127s 203ms/step - loss: 0.4090 - accuracy: 0.9241 - val_loss: 0.7285 - val_accuracy: 0.8451\n",
      "Epoch 45/50\n",
      "625/625 [==============================] - 127s 204ms/step - loss: 0.4102 - accuracy: 0.9239 - val_loss: 0.7005 - val_accuracy: 0.8559\n",
      "Epoch 46/50\n",
      "625/625 [==============================] - 128s 204ms/step - loss: 0.4050 - accuracy: 0.9257 - val_loss: 0.6816 - val_accuracy: 0.8552\n",
      "Epoch 47/50\n",
      "625/625 [==============================] - 129s 206ms/step - loss: 0.4035 - accuracy: 0.9259 - val_loss: 0.7362 - val_accuracy: 0.8464\n",
      "Epoch 48/50\n",
      "625/625 [==============================] - 129s 207ms/step - loss: 0.4079 - accuracy: 0.9243 - val_loss: 0.7031 - val_accuracy: 0.8532\n",
      "Epoch 49/50\n",
      "625/625 [==============================] - 128s 205ms/step - loss: 0.4038 - accuracy: 0.9261 - val_loss: 0.7332 - val_accuracy: 0.8432\n",
      "Epoch 50/50\n",
      "625/625 [==============================] - 127s 203ms/step - loss: 0.4088 - accuracy: 0.9246 - val_loss: 0.7171 - val_accuracy: 0.8504\n"
     ]
    }
   ],
   "source": [
    "epochs_hist = model.fit(X_train, y_train_cat, batch_size=64, epochs=50, validation_split=0.2, shuffle=True)"
   ]
  },
  {
   "cell_type": "code",
   "execution_count": 65,
   "id": "30339fff-926f-4531-90b6-f5f11768f1b6",
   "metadata": {},
   "outputs": [
    {
     "data": {
      "image/png": "[encoded data removed]",
      "text/plain": [
       "<Figure size 1500x500 with 2 Axes>"
      ]
     },
     "metadata": {},
     "output_type": "display_data"
    }
   ],
   "source": [
    "plt.figure(figsize=(15,5))\n",
    "plt.subplot(1,2,1)\n",
    "plt.plot(epochs_hist.history['val_accuracy'], label = 'CV Acc')\n",
    "plt.plot(epochs_hist.history['accuracy'], label = 'Training Acc')\n",
    "plt.title(\"Model Accuracy\")\n",
    "plt.xlabel('Epochs')\n",
    "plt.ylabel('Accuracy')\n",
    "plt.grid()\n",
    "plt.legend()\n",
    "\n",
    "plt.subplot(1,2,2)\n",
    "plt.plot(epochs_hist.history['val_loss'], label = 'CV Loss')\n",
    "plt.plot(epochs_hist.history['loss'], label = 'Training Loss')\n",
    "plt.title(\"Model Loss\")\n",
    "plt.xlabel('Epochs')\n",
    "plt.ylabel('Loss')\n",
    "plt.grid()\n",
    "plt.legend()\n",
    "plt.show()"
   ]
  },
  {
   "cell_type": "markdown",
   "id": "f43020e6-1628-4860-a2fe-df7e43b2850c",
   "metadata": {},
   "source": [
    "#### Model Predictions"
   ]
  },
  {
   "cell_type": "code",
   "execution_count": 68,
   "id": "9c543424-b73c-4e82-89d4-6bed580dad3c",
   "metadata": {},
   "outputs": [
    {
     "name": "stdout",
     "output_type": "stream",
     "text": [
      "313/313 [==============================] - 12s 36ms/step\n"
     ]
    },
    {
     "data": {
      "text/plain": [
       "array([[4.2550114e-06, 3.8054717e-05, 3.0258998e-06, ..., 8.6653777e-08,\n",
       "        2.8680863e-05, 4.8215668e-07],\n",
       "       [9.5544713e-08, 1.7326779e-06, 1.3286542e-15, ..., 1.3801580e-17,\n",
       "        9.9999809e-01, 2.9093021e-11],\n",
       "       [1.0808474e-07, 1.9379528e-03, 1.1920601e-09, ..., 1.5067667e-10,\n",
       "        9.9806184e-01, 5.3695064e-08],\n",
       "       ...,\n",
       "       [3.9046472e-10, 1.5611511e-10, 2.5110439e-06, ..., 9.1239177e-05,\n",
       "        3.3899734e-09, 1.5691111e-08],\n",
       "       [4.0463946e-04, 9.9927050e-01, 2.4135950e-08, ..., 1.9076575e-05,\n",
       "        6.6560642e-06, 1.9469708e-06],\n",
       "       [2.0858920e-12, 9.3141484e-12, 3.9141073e-12, ..., 9.9999988e-01,\n",
       "        2.4636516e-13, 6.4867859e-13]], dtype=float32)"
      ]
     },
     "execution_count": 68,
     "metadata": {},
     "output_type": "execute_result"
    }
   ],
   "source": [
    "y_pred = model.predict(X_test)\n",
    "y_pred"
   ]
  },
  {
   "cell_type": "code",
   "execution_count": 69,
   "id": "59e94a4d-678b-434f-8f3d-60f9aca3d27d",
   "metadata": {},
   "outputs": [
    {
     "data": {
      "text/plain": [
       "[3, 8, 8, 0, 6]"
      ]
     },
     "execution_count": 69,
     "metadata": {},
     "output_type": "execute_result"
    }
   ],
   "source": [
    "y_classes = [np.argmax(element) for element in y_pred]\n",
    "y_classes[:5]"
   ]
  },
  {
   "cell_type": "code",
   "execution_count": 70,
   "id": "e1ea0071-d30a-455b-bede-5d938fe1d119",
   "metadata": {},
   "outputs": [
    {
     "data": {
      "text/plain": [
       "array([3, 8, 8, 0, 6], dtype=uint8)"
      ]
     },
     "execution_count": 70,
     "metadata": {},
     "output_type": "execute_result"
    }
   ],
   "source": [
    "y_test[:5]"
   ]
  },
  {
   "cell_type": "code",
   "execution_count": 71,
   "id": "75956e22-caa0-40f4-a633-fd58ae1d3b60",
   "metadata": {},
   "outputs": [
    {
     "data": {
      "text/plain": [
       "array([3, 8, 8, ..., 5, 1, 7], dtype=uint8)"
      ]
     },
     "execution_count": 71,
     "metadata": {},
     "output_type": "execute_result"
    }
   ],
   "source": [
    "y_test = y_test.reshape(-1,)\n",
    "y_test"
   ]
  },
  {
   "cell_type": "code",
   "execution_count": 72,
   "id": "88daa7de-803c-4b36-a4b4-af8f0e6d558f",
   "metadata": {},
   "outputs": [
    {
     "name": "stderr",
     "output_type": "stream",
     "text": [
      "WARNING:matplotlib.image:Clipping input data to the valid range for imshow with RGB data ([0..1] for floats or [0..255] for integers).\n"
     ]
    },
    {
     "data": {
      "image/png": "[encoded data removed]",
      "text/plain": [
       "<Figure size 1500x200 with 1 Axes>"
      ]
     },
     "metadata": {},
     "output_type": "display_data"
    }
   ],
   "source": [
    "plot_sample(X_test, y_test,3)"
   ]
  },
  {
   "cell_type": "markdown",
   "id": "905075ab-0117-4958-8b20-62457750caac",
   "metadata": {},
   "source": [
    "#### Model Evaluation"
   ]
  },
  {
   "cell_type": "code",
   "execution_count": 66,
   "id": "cf30c886-56fc-4c17-9887-e04a4dd3a06c",
   "metadata": {},
   "outputs": [
    {
     "name": "stdout",
     "output_type": "stream",
     "text": [
      "79/79 [==============================] - 9s 113ms/step - loss: 0.7419 - accuracy: 0.8443\n"
     ]
    }
   ],
   "source": [
    "#evaluating using test set\n",
    "score = model.evaluate(X_test, y_test_cat, batch_size=128, verbose=1)"
   ]
  },
  {
   "cell_type": "code",
   "execution_count": 67,
   "id": "d019d9d1-7e7c-4743-a84b-822461f482f1",
   "metadata": {},
   "outputs": [
    {
     "name": "stdout",
     "output_type": "stream",
     "text": [
      "Accuracy on Test Set : 84.43%\n"
     ]
    }
   ],
   "source": [
    "print(\"Accuracy on Test Set : {:.2f}%\".format(score[1]*100))"
   ]
  },
  {
   "cell_type": "markdown",
   "id": "6eed0076-edca-4919-95f8-7aea8c911b9f",
   "metadata": {},
   "source": [
    "With CNN, at the end 5 epochs, accuracy was at around **85%** which is a significant improvement over ANN. CNN's are best for image classification and gives superb accuracy. Also computation is much less compared to simple ANN as maxpooling reduces the image dimensions while still preserving the features"
   ]
  },
  {
   "cell_type": "markdown",
   "id": "10a223c5-2c48-4c2d-b0bc-bab66cb9aaff",
   "metadata": {},
   "source": [
    "### Model Saving"
   ]
  },
  {
   "cell_type": "code",
   "execution_count": 73,
   "id": "01e9d155-fa72-44aa-ba47-69a22df8e830",
   "metadata": {},
   "outputs": [],
   "source": [
    "model.save('image_classification_CNN.h5')"
   ]
  }
 ],
 "metadata": {
  "kernelspec": {
   "display_name": "base",
   "language": "python",
   "name": "base"
  },
  "language_info": {
   "codemirror_mode": {
    "name": "ipython",
    "version": 3
   },
   "file_extension": ".py",
   "mimetype": "text/x-python",
   "name": "python",
   "nbconvert_exporter": "python",
   "pygments_lexer": "ipython3",
   "version": "3.11.7"
  }
 },
 "nbformat": 4,
 "nbformat_minor": 5
}
